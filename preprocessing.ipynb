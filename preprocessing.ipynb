{
 "cells": [
  {
   "cell_type": "code",
   "execution_count": 1,
   "metadata": {},
   "outputs": [],
   "source": [
    "import numpy as np\n",
    "import torch\n",
    "import transformers\n",
    "import os\n",
    "import csv\n",
    "from preprocessing_functions import *"
   ]
  },
  {
   "cell_type": "code",
   "execution_count": 5,
   "metadata": {},
   "outputs": [
    {
     "name": "stdout",
     "output_type": "stream",
     "text": [
      "Overwriting data_preparation/prepare_data.py\n"
     ]
    }
   ],
   "source": [
    "%%writefile data_preparation/prepare_data.py\n",
    "import sys\n",
    "#to access helper functions\n",
    "sys.path.append('..')\n",
    "#make relevant imports\n",
    "import numpy as np\n",
    "import torch\n",
    "import transformers\n",
    "import os\n",
    "import csv\n",
    "from preprocessing_functions import *\n",
    "\n",
    "#initialize tokenizer\n",
    "tokenizer = transformers.BertTokenizer.from_pretrained('dmis-lab/biobert-base-cased-v1.2', do_lower_case=False)\n",
    "\n",
    "#load the data\n",
    "PARENT_DIR = os.path.join('..', 'BioNLP')\n",
    "CORPUS_PATH = 'BioNLP09-IOB'\n",
    "\n",
    "#extract sentences and tags from files\n",
    "train_sentences, train_tags = extractFromDirectories(parent_dir=PARENT_DIR,\n",
    "                                                     corpus_path=CORPUS_PATH,\n",
    "                                                     file_type='train.tsv')\n",
    "\n",
    "val_sentences, val_tags = extractFromDirectories(parent_dir=PARENT_DIR,\n",
    "                                                     corpus_path=CORPUS_PATH,\n",
    "                                                     file_type='devel.tsv')\n",
    "\n",
    "test_sentences, test_tags = extractFromDirectories(parent_dir=PARENT_DIR,\n",
    "                                                     corpus_path=CORPUS_PATH,\n",
    "                                                     file_type='test.tsv')\n",
    "\n",
    "#generate datasets\n",
    "tokenized_train_dataset = tokenize_dataset(train_sentences,train_tags,tokenizer)\n",
    "tokenized_val_dataset = tokenize_dataset(val_sentences,val_tags,tokenizer)\n",
    "tokenized_test_dataset = tokenize_dataset(test_sentences,test_tags,tokenizer)\n",
    "\n",
    "#save datasets as TensorDataset\n",
    "save_as_tensor_dataset('prepared_data/train.pt', tokenized_train_dataset)\n",
    "save_as_tensor_dataset('prepared_data/val.pt', tokenized_val_dataset)\n",
    "save_as_tensor_dataset('prepared_data/test.pt', tokenized_test_dataset)\n"
   ]
  },
  {
   "cell_type": "code",
   "execution_count": null,
   "metadata": {},
   "outputs": [],
   "source": [
    "#save datasets\n"
   ]
  }
 ],
 "metadata": {
  "kernelspec": {
   "display_name": "biobert",
   "language": "python",
   "name": "python3"
  },
  "language_info": {
   "codemirror_mode": {
    "name": "ipython",
    "version": 3
   },
   "file_extension": ".py",
   "mimetype": "text/x-python",
   "name": "python",
   "nbconvert_exporter": "python",
   "pygments_lexer": "ipython3",
   "version": "3.9.16"
  },
  "orig_nbformat": 4,
  "vscode": {
   "interpreter": {
    "hash": "a5f2e852b19635869680eb89820f551f0c9ffdb8d4f5703d6a2735a356ddba28"
   }
  }
 },
 "nbformat": 4,
 "nbformat_minor": 2
}
